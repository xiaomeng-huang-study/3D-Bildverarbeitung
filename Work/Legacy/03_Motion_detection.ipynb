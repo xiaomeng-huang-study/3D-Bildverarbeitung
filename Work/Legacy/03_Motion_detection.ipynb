{
 "cells": [
  {
   "cell_type": "code",
   "execution_count": 25,
   "metadata": {},
   "outputs": [],
   "source": [
    "import pandas as pd\n",
    "import os\n",
    "import numpy as np\n",
    "import open3d as o3d\n",
    "import time\n",
    "from pathlib import Path"
   ]
  },
  {
   "cell_type": "markdown",
   "metadata": {},
   "source": [
    "# Sliding window size = 1"
   ]
  },
  {
   "cell_type": "code",
   "execution_count": 30,
   "metadata": {},
   "outputs": [],
   "source": [
    "def assign_color(label):\n",
    "    if label == True:\n",
    "        return [1.0, 0.0, 0.0]  # red\n",
    "    else:\n",
    "        return [0.5, 0.5, 0.5]  # gray"
   ]
  },
  {
   "cell_type": "code",
   "execution_count": 31,
   "metadata": {},
   "outputs": [],
   "source": [
    "Path_dfs = \"./dfs/sliding_windowsize_1\"\n",
    "num_example_frame = 30\n",
    "df_example_frame = pd.read_pickle(os.path.join(Path_dfs, \"df_{:0>3}.pkl\".format(num_example_frame)))"
   ]
  },
  {
   "cell_type": "code",
   "execution_count": 32,
   "metadata": {},
   "outputs": [],
   "source": [
    "df_example_frame[\"color\"] = df_example_frame[\"motion\"].apply(assign_color)"
   ]
  },
  {
   "cell_type": "code",
   "execution_count": 33,
   "metadata": {},
   "outputs": [],
   "source": [
    "points = np.vstack(df_example_frame[\"source_point\"].values) \n",
    "colors = np.vstack(df_example_frame[\"color\"].values) \n",
    "point_cloud = o3d.geometry.PointCloud()\n",
    "point_cloud.points = o3d.utility.Vector3dVector(points)\n",
    "point_cloud.colors = o3d.utility.Vector3dVector(colors)\n",
    "o3d.visualization.draw_geometries([point_cloud])"
   ]
  },
  {
   "cell_type": "markdown",
   "metadata": {},
   "source": [
    "# Sliding window size = 5"
   ]
  },
  {
   "cell_type": "code",
   "execution_count": 34,
   "metadata": {},
   "outputs": [],
   "source": [
    "def assign_color(label):\n",
    "    if label == True:\n",
    "        return [1.0, 0.0, 0.0]  # red\n",
    "    else:\n",
    "        return [0.5, 0.5, 0.5]  # gray"
   ]
  },
  {
   "cell_type": "code",
   "execution_count": 35,
   "metadata": {},
   "outputs": [],
   "source": [
    "Path_dfs = \"./dfs/sliding_windowsize_5\"\n",
    "num_example_frame = 30\n",
    "df_example_frame = pd.read_pickle(os.path.join(Path_dfs, \"df_{:0>3}.pkl\".format(num_example_frame)))"
   ]
  },
  {
   "cell_type": "code",
   "execution_count": 36,
   "metadata": {},
   "outputs": [],
   "source": [
    "df_example_frame[\"color\"] = df_example_frame[\"motion\"].apply(assign_color)"
   ]
  },
  {
   "cell_type": "code",
   "execution_count": 37,
   "metadata": {},
   "outputs": [],
   "source": [
    "points = np.vstack(df_example_frame[\"source_point\"].values) \n",
    "colors = np.vstack(df_example_frame[\"color\"].values) \n",
    "point_cloud = o3d.geometry.PointCloud()\n",
    "point_cloud.points = o3d.utility.Vector3dVector(points)\n",
    "point_cloud.colors = o3d.utility.Vector3dVector(colors)\n",
    "o3d.visualization.draw_geometries([point_cloud])"
   ]
  }
 ],
 "metadata": {
  "kernelspec": {
   "display_name": "venv_3dbv",
   "language": "python",
   "name": "python3"
  },
  "language_info": {
   "codemirror_mode": {
    "name": "ipython",
    "version": 3
   },
   "file_extension": ".py",
   "mimetype": "text/x-python",
   "name": "python",
   "nbconvert_exporter": "python",
   "pygments_lexer": "ipython3",
   "version": "3.10.16"
  }
 },
 "nbformat": 4,
 "nbformat_minor": 2
}
