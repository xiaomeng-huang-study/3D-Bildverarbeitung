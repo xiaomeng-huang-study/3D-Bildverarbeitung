{
 "cells": [
  {
   "cell_type": "code",
   "execution_count": 1,
   "metadata": {},
   "outputs": [
    {
     "name": "stdout",
     "output_type": "stream",
     "text": [
      "Jupyter environment detected. Enabling Open3D WebVisualizer.\n",
      "[Open3D INFO] WebRTC GUI backend enabled.\n",
      "[Open3D INFO] WebRTCWindowSystem: HTTP handshake server disabled.\n"
     ]
    }
   ],
   "source": [
    "from sklearn.cluster import DBSCAN\n",
    "import numpy as np\n",
    "import open3d as o3d\n",
    "import matplotlib.pyplot as plt\n",
    "import pandas as pd\n",
    "from open3d import visualization, io\n",
    "import matplotlib.pyplot as plt\n",
    "import ast\n",
    "import os\n",
    "import time\n",
    "import json"
   ]
  },
  {
   "cell_type": "code",
   "execution_count": 2,
   "metadata": {},
   "outputs": [],
   "source": [
    "Path_pcds_processed = \"./pcds_processed\"\n",
    "view_config = \"saved_view.json\""
   ]
  },
  {
   "cell_type": "code",
   "execution_count": 3,
   "metadata": {},
   "outputs": [
    {
     "name": "stdout",
     "output_type": "stream",
     "text": [
      "View parameters loaded and applied.\n"
     ]
    }
   ],
   "source": [
    "vis= o3d.visualization.Visualizer()\n",
    "vis.create_window(width= 1440, height= 900)\n",
    "\n",
    "point_cloud = io.read_point_cloud(os.path.join(Path_pcds_processed, \"point_cloud_{:0>3}.pcd\".format(0))) # Read first point cloud\n",
    "vis.add_geometry(point_cloud)\n",
    "vis.update_renderer()\n",
    "\n",
    "try:\n",
    "    with open(view_config, 'r') as f:\n",
    "        view_params = json.load(f)\n",
    "    \n",
    "    # PinholeCameraParameters \n",
    "    ctr = vis.get_view_control()\n",
    "    camera_params = ctr.convert_to_pinhole_camera_parameters()\n",
    "    \n",
    "    # extrinsic \n",
    "    extrinsic = np.array(view_params['extrinsic']).reshape((4, 4))\n",
    "    camera_params.extrinsic = extrinsic\n",
    "    \n",
    "    # intrinsic \n",
    "    intrinsic = o3d.camera.PinholeCameraIntrinsic()\n",
    "    intrinsic.intrinsic_matrix = np.array(view_params[\"intrinsic\"]['intrinsic_matrix']).reshape((3, 3))\n",
    "    intrinsic.width = view_params[\"intrinsic\"]['width']\n",
    "    intrinsic.height = view_params[\"intrinsic\"]['height']\n",
    "    camera_params.intrinsic = intrinsic\n",
    "    \n",
    "    # Apply\n",
    "    ctr.convert_from_pinhole_camera_parameters(camera_params, allow_arbitrary= True)\n",
    "    ctr.set_zoom(0.5)\n",
    "    ctr.set_lookat([-1, 0, 0])\n",
    "    \n",
    "    print(\"View parameters loaded and applied.\")\n",
    "except Exception as e:\n",
    "    print(f\"Failed to load view parameters: {e}\")\n",
    "\n",
    "\n",
    "for num_point_cloud in range(1, 54):\n",
    "    temo_point_cloud = io.read_point_cloud(os.path.join(Path_pcds_processed, \"point_cloud_{:0>3}.pcd\".format(num_point_cloud))) # Read point cloud\n",
    "    point_cloud.points = temo_point_cloud.points\n",
    "    point_cloud.colors = temo_point_cloud.colors\n",
    "    vis.update_geometry(point_cloud)\n",
    "    \n",
    "    vis.poll_events()\n",
    "    vis.update_renderer()\n",
    "    time.sleep(0.1)  # 延迟时间，控制播放速度\n",
    "\n",
    "vis.destroy_window()"
   ]
  }
 ],
 "metadata": {
  "kernelspec": {
   "display_name": "venv_3dbv",
   "language": "python",
   "name": "python3"
  },
  "language_info": {
   "codemirror_mode": {
    "name": "ipython",
    "version": 3
   },
   "file_extension": ".py",
   "mimetype": "text/x-python",
   "name": "python",
   "nbconvert_exporter": "python",
   "pygments_lexer": "ipython3",
   "version": "3.10.13"
  }
 },
 "nbformat": 4,
 "nbformat_minor": 2
}
