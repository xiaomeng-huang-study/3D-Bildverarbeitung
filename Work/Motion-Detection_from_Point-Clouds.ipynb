{
 "cells": [
  {
   "cell_type": "markdown",
   "metadata": {
    "id": "lq8JHKHByPWA"
   },
   "source": [
    "# Prepare"
   ]
  },
  {
   "cell_type": "code",
   "execution_count": 1,
   "metadata": {
    "execution": {
     "iopub.execute_input": "2024-12-26T14:50:04.781234Z",
     "iopub.status.busy": "2024-12-26T14:50:04.780821Z",
     "iopub.status.idle": "2024-12-26T14:50:04.785262Z",
     "shell.execute_reply": "2024-12-26T14:50:04.784343Z",
     "shell.execute_reply.started": "2024-12-26T14:50:04.781206Z"
    },
    "executionInfo": {
     "elapsed": 223,
     "status": "ok",
     "timestamp": 1736275410981,
     "user": {
      "displayName": "xiaomeng huang",
      "userId": "10238224868504546928"
     },
     "user_tz": -60
    },
    "id": "z2RzMqBdyPWE",
    "trusted": true
   },
   "outputs": [
    {
     "name": "stdout",
     "output_type": "stream",
     "text": [
      "Jupyter environment detected. Enabling Open3D WebVisualizer.\n",
      "[Open3D INFO] WebRTC GUI backend enabled.\n",
      "[Open3D INFO] WebRTCWindowSystem: HTTP handshake server disabled.\n"
     ]
    }
   ],
   "source": [
    "import open3d as o3d\n",
    "from open3d import visualization, io\n",
    "import os\n",
    "import copy\n",
    "import numpy as np\n",
    "import plotly.graph_objects as go\n",
    "import pandas as pd\n",
    "import time\n",
    "from pathlib import Path\n",
    "from sklearn.cluster import DBSCAN\n",
    "import json"
   ]
  },
  {
   "cell_type": "markdown",
   "metadata": {
    "id": "ONoiAklxyPWE"
   },
   "source": [
    "# 01 Load point clouds"
   ]
  },
  {
   "cell_type": "markdown",
   "metadata": {
    "id": "BG8sfxY09_s-"
   },
   "source": [
    "## Parameters Definition"
   ]
  },
  {
   "cell_type": "code",
   "execution_count": 2,
   "metadata": {
    "execution": {
     "iopub.execute_input": "2024-12-26T14:50:04.787213Z",
     "iopub.status.busy": "2024-12-26T14:50:04.787010Z",
     "iopub.status.idle": "2024-12-26T14:50:04.803782Z",
     "shell.execute_reply": "2024-12-26T14:50:04.803097Z",
     "shell.execute_reply.started": "2024-12-26T14:50:04.787194Z"
    },
    "executionInfo": {
     "elapsed": 787,
     "status": "ok",
     "timestamp": 1736273094063,
     "user": {
      "displayName": "xiaomeng huang",
      "userId": "10238224868504546928"
     },
     "user_tz": -60
    },
    "id": "jrKP5fX5yPWF",
    "trusted": true
   },
   "outputs": [],
   "source": [
    "Path_raw_PCDs = \"./raw_pcds/\""
   ]
  },
  {
   "cell_type": "markdown",
   "metadata": {
    "id": "9ZAtlzx1-CEv"
   },
   "source": [
    "## Funtion Definition"
   ]
  },
  {
   "cell_type": "code",
   "execution_count": 3,
   "metadata": {
    "executionInfo": {
     "elapsed": 419,
     "status": "ok",
     "timestamp": 1736273096231,
     "user": {
      "displayName": "xiaomeng huang",
      "userId": "10238224868504546928"
     },
     "user_tz": -60
    },
    "id": "z3Vj8lYahlr2"
   },
   "outputs": [],
   "source": [
    "def filter_points_by_range(point_cloud, center= np.array([0.0, 0.0, 0.0]), threshold_x = [-7.0, 3.0], threshold_y = [-10.0, 10.0]):\n",
    "    # extract points\n",
    "    points = np.asarray(point_cloud.points)\n",
    "\n",
    "    # filter\n",
    "    mask = ((threshold_x[0] <= points[:, 0]) & (points[:, 0] <= threshold_x[1])) & ((threshold_y[0] <= points[:, 1]) & (points[:, 1] <= threshold_y[1]))\n",
    "    filtered_points = points[mask]\n",
    "\n",
    "    # create new point_cloud\n",
    "    filtered_point_cloud = o3d.geometry.PointCloud()\n",
    "    filtered_point_cloud.points = o3d.utility.Vector3dVector(filtered_points)\n",
    "\n",
    "    return filtered_point_cloud"
   ]
  },
  {
   "cell_type": "code",
   "execution_count": 4,
   "metadata": {
    "execution": {
     "iopub.execute_input": "2024-12-26T14:50:04.805295Z",
     "iopub.status.busy": "2024-12-26T14:50:04.805007Z",
     "iopub.status.idle": "2024-12-26T14:50:04.819750Z",
     "shell.execute_reply": "2024-12-26T14:50:04.818967Z",
     "shell.execute_reply.started": "2024-12-26T14:50:04.805263Z"
    },
    "executionInfo": {
     "elapsed": 1,
     "status": "ok",
     "timestamp": 1736273097716,
     "user": {
      "displayName": "xiaomeng huang",
      "userId": "10238224868504546928"
     },
     "user_tz": -60
    },
    "id": "znTFODksyPWG",
    "trusted": true
   },
   "outputs": [],
   "source": [
    "def load_point_clouds(path, filtering = True):\n",
    "    point_clouds = []\n",
    "    for filename in sorted(os.listdir(path)):\n",
    "        if filename.endswith(\".pcd\"):\n",
    "            full_path = os.path.join(path, filename)\n",
    "            point_cloud = o3d.io.read_point_cloud(full_path)\n",
    "            if filtering:\n",
    "              filtered_point_cloud = filter_points_by_range(point_cloud)\n",
    "              point_clouds.append(filtered_point_cloud)\n",
    "            else:\n",
    "              point_clouds.append(point_cloud)\n",
    "    return point_clouds"
   ]
  },
  {
   "cell_type": "markdown",
   "metadata": {
    "id": "X74g9l85-Eqe"
   },
   "source": [
    "## Apply Loading point clouds"
   ]
  },
  {
   "cell_type": "markdown",
   "metadata": {
    "id": "f8uvOUYjYAL1"
   },
   "source": [
    "### Unfiltered"
   ]
  },
  {
   "cell_type": "code",
   "execution_count": 25,
   "metadata": {
    "colab": {
     "base_uri": "https://localhost:8080/"
    },
    "executionInfo": {
     "elapsed": 3499,
     "status": "ok",
     "timestamp": 1736273102932,
     "user": {
      "displayName": "xiaomeng huang",
      "userId": "10238224868504546928"
     },
     "user_tz": -60
    },
    "id": "vxJYieLVXc7t",
    "outputId": "b9b93b97-47c0-40bf-8899-46f33e8cd21c"
   },
   "outputs": [
    {
     "name": "stdout",
     "output_type": "stream",
     "text": [
      "60 unfiltered oint clouds have been loaded.\n"
     ]
    }
   ],
   "source": [
    "# Load point clouds\n",
    "point_clouds_unfiltered = load_point_clouds(Path_raw_PCDs, filtering= False)\n",
    "print(f\"{len(point_clouds_unfiltered)} unfiltered oint clouds have been loaded.\")"
   ]
  },
  {
   "cell_type": "code",
   "execution_count": 26,
   "metadata": {
    "colab": {
     "base_uri": "https://localhost:8080/"
    },
    "executionInfo": {
     "elapsed": 978,
     "status": "ok",
     "timestamp": 1736273105929,
     "user": {
      "displayName": "xiaomeng huang",
      "userId": "10238224868504546928"
     },
     "user_tz": -60
    },
    "id": "dRODdFl3Xwu_",
    "outputId": "7f1222e4-d13c-44fb-c08d-5204f9dd8bf1"
   },
   "outputs": [
    {
     "data": {
      "text/plain": [
       "True"
      ]
     },
     "execution_count": 26,
     "metadata": {},
     "output_type": "execute_result"
    }
   ],
   "source": [
    "all_point_clouds_unfiltered = point_clouds_unfiltered[0]\n",
    "for i in range(1, len(point_clouds_unfiltered)):\n",
    "  all_point_clouds_unfiltered = all_point_clouds_unfiltered + point_clouds_unfiltered[i]\n",
    "o3d.io.write_point_cloud(\"01_Loading_Filtering_Point-clouds/all_point_clouds_unfiltered.pcd\", all_point_clouds_unfiltered)"
   ]
  },
  {
   "cell_type": "markdown",
   "metadata": {
    "id": "GNbxT5drX9ok"
   },
   "source": [
    "### Filtered"
   ]
  },
  {
   "cell_type": "code",
   "execution_count": 7,
   "metadata": {
    "colab": {
     "base_uri": "https://localhost:8080/"
    },
    "execution": {
     "iopub.execute_input": "2024-12-26T14:50:04.820820Z",
     "iopub.status.busy": "2024-12-26T14:50:04.820581Z",
     "iopub.status.idle": "2024-12-26T14:50:06.777636Z",
     "shell.execute_reply": "2024-12-26T14:50:06.776779Z",
     "shell.execute_reply.started": "2024-12-26T14:50:04.820802Z"
    },
    "executionInfo": {
     "elapsed": 1827,
     "status": "ok",
     "timestamp": 1736273126146,
     "user": {
      "displayName": "xiaomeng huang",
      "userId": "10238224868504546928"
     },
     "user_tz": -60
    },
    "id": "9hcggmIeyPWH",
    "outputId": "9508af25-5da1-4348-e27c-3becbe9e0d7a",
    "trusted": true
   },
   "outputs": [
    {
     "name": "stdout",
     "output_type": "stream",
     "text": [
      "60 point clouds have been loaded.\n"
     ]
    }
   ],
   "source": [
    "# Load point clouds\n",
    "point_clouds = load_point_clouds(Path_raw_PCDs)\n",
    "print(f\"{len(point_clouds)} point clouds have been loaded.\")"
   ]
  },
  {
   "cell_type": "code",
   "execution_count": 28,
   "metadata": {
    "colab": {
     "base_uri": "https://localhost:8080/"
    },
    "executionInfo": {
     "elapsed": 251,
     "status": "ok",
     "timestamp": 1736273127773,
     "user": {
      "displayName": "xiaomeng huang",
      "userId": "10238224868504546928"
     },
     "user_tz": -60
    },
    "id": "jUZqySfUcrqa",
    "outputId": "f6bc2578-a57a-4b2c-dd8a-5121b20c22eb"
   },
   "outputs": [
    {
     "data": {
      "text/plain": [
       "True"
      ]
     },
     "execution_count": 28,
     "metadata": {},
     "output_type": "execute_result"
    }
   ],
   "source": [
    "all_point_clouds = point_clouds[0]\n",
    "for i in range(1, len(point_clouds)):\n",
    "  all_point_clouds = all_point_clouds + point_clouds[i]\n",
    "o3d.io.write_point_cloud(\"01_Loading_Filtering_Point-clouds/all_point_clouds.pcd\", all_point_clouds)"
   ]
  },
  {
   "cell_type": "markdown",
   "metadata": {},
   "source": [
    "## Visualization"
   ]
  },
  {
   "cell_type": "markdown",
   "metadata": {},
   "source": [
    "### Unfiltered"
   ]
  },
  {
   "cell_type": "code",
   "execution_count": null,
   "metadata": {},
   "outputs": [],
   "source": [
    "all_point_clouds_unfiltered = io.read_point_cloud(\"01_Loading_Filtering_Point-clouds/all_point_clouds_unfiltered.pcd\") # Read point cloud"
   ]
  },
  {
   "cell_type": "code",
   "execution_count": null,
   "metadata": {},
   "outputs": [],
   "source": [
    "visualization.draw_geometries([all_point_clouds_unfiltered])    # Visualize point cloud "
   ]
  },
  {
   "cell_type": "markdown",
   "metadata": {},
   "source": [
    "### Filtered"
   ]
  },
  {
   "cell_type": "code",
   "execution_count": 5,
   "metadata": {},
   "outputs": [],
   "source": [
    "all_point_clouds = io.read_point_cloud(\"01_Loading_Filtering_Point-clouds/all_point_clouds.pcd\") # Read point cloud"
   ]
  },
  {
   "cell_type": "code",
   "execution_count": 6,
   "metadata": {},
   "outputs": [],
   "source": [
    "visualization.draw_geometries([all_point_clouds])    # Visualize point cloud "
   ]
  },
  {
   "cell_type": "markdown",
   "metadata": {
    "id": "ZLgEkPe0yPWI"
   },
   "source": [
    "# 02 ICP"
   ]
  },
  {
   "cell_type": "markdown",
   "metadata": {
    "id": "4NCTWwSB8n5P"
   },
   "source": [
    "## Function Definition"
   ]
  },
  {
   "cell_type": "code",
   "execution_count": 7,
   "metadata": {
    "execution": {
     "iopub.execute_input": "2024-12-26T14:50:06.778570Z",
     "iopub.status.busy": "2024-12-26T14:50:06.778365Z",
     "iopub.status.idle": "2024-12-26T14:50:10.284483Z",
     "shell.execute_reply": "2024-12-26T14:50:10.282841Z",
     "shell.execute_reply.started": "2024-12-26T14:50:06.778553Z"
    },
    "executionInfo": {
     "elapsed": 217,
     "status": "ok",
     "timestamp": 1736273142460,
     "user": {
      "displayName": "xiaomeng huang",
      "userId": "10238224868504546928"
     },
     "user_tz": -60
    },
    "id": "iXx8WBjzyPWI",
    "trusted": true
   },
   "outputs": [],
   "source": [
    "# ICP registration for sequential point clouds\n",
    "def register_point_clouds(point_clouds, threshold = 0.05):\n",
    "    registered_clouds = [point_clouds[0]]\n",
    "    for i in range(1, len(point_clouds)):\n",
    "        source = point_clouds[i]\n",
    "        target = registered_clouds[-1]\n",
    "\n",
    "        icp_result = o3d.pipelines.registration.registration_icp(\n",
    "            source, target, max_correspondence_distance= threshold,\n",
    "            estimation_method= o3d.pipelines.registration.TransformationEstimationPointToPoint()\n",
    "        )\n",
    "        transformed_source = source.transform(icp_result.transformation)\n",
    "        registered_clouds.append(transformed_source)\n",
    "    return registered_clouds"
   ]
  },
  {
   "cell_type": "markdown",
   "metadata": {
    "id": "EuDkPhhuitUG"
   },
   "source": [
    "## Parameters Definition"
   ]
  },
  {
   "cell_type": "code",
   "execution_count": 8,
   "metadata": {
    "executionInfo": {
     "elapsed": 222,
     "status": "ok",
     "timestamp": 1736273144706,
     "user": {
      "displayName": "xiaomeng huang",
      "userId": "10238224868504546928"
     },
     "user_tz": -60
    },
    "id": "3FY3yOtiiv7v"
   },
   "outputs": [],
   "source": [
    "icp_threshold = 0.05"
   ]
  },
  {
   "cell_type": "markdown",
   "metadata": {
    "id": "gqOeFili8rj1"
   },
   "source": [
    "## Apply ICP Algorithm"
   ]
  },
  {
   "cell_type": "code",
   "execution_count": 31,
   "metadata": {
    "colab": {
     "base_uri": "https://localhost:8080/"
    },
    "executionInfo": {
     "elapsed": 6747,
     "status": "ok",
     "timestamp": 1736273153777,
     "user": {
      "displayName": "xiaomeng huang",
      "userId": "10238224868504546928"
     },
     "user_tz": -60
    },
    "id": "o6H9vP-N8krH",
    "outputId": "7e128973-2299-49a3-bfa4-a1289b2afb4e"
   },
   "outputs": [
    {
     "name": "stdout",
     "output_type": "stream",
     "text": [
      "Point clouds were registered.\n"
     ]
    }
   ],
   "source": [
    "# Register point clouds\n",
    "registered_point_clouds = register_point_clouds(point_clouds, icp_threshold)\n",
    "print(\"Point clouds were registered.\")"
   ]
  },
  {
   "cell_type": "markdown",
   "metadata": {
    "id": "RZFnXmu-8voQ"
   },
   "source": [
    "## Save "
   ]
  },
  {
   "cell_type": "code",
   "execution_count": 32,
   "metadata": {
    "colab": {
     "base_uri": "https://localhost:8080/"
    },
    "executionInfo": {
     "elapsed": 224,
     "status": "ok",
     "timestamp": 1736273155855,
     "user": {
      "displayName": "xiaomeng huang",
      "userId": "10238224868504546928"
     },
     "user_tz": -60
    },
    "id": "csQBtA8s2nmO",
    "outputId": "e1ec9347-f999-440d-8507-fd1e23fae424"
   },
   "outputs": [
    {
     "data": {
      "text/plain": [
       "True"
      ]
     },
     "execution_count": 32,
     "metadata": {},
     "output_type": "execute_result"
    }
   ],
   "source": [
    "all_registered_point_clouds = registered_point_clouds[0]\n",
    "for i in range(1, len(registered_point_clouds)):\n",
    "  all_registered_point_clouds = all_registered_point_clouds + registered_point_clouds[i]\n",
    "o3d.io.write_point_cloud(\"02_Point-clouds_Registration_ICP/all_registered_point_clouds.pcd\", all_registered_point_clouds)"
   ]
  },
  {
   "cell_type": "markdown",
   "metadata": {},
   "source": [
    "## Visualization "
   ]
  },
  {
   "cell_type": "code",
   "execution_count": 9,
   "metadata": {},
   "outputs": [],
   "source": [
    "all_registered_point_clouds = io.read_point_cloud(\"02_Point-clouds_Registration_ICP/all_registered_point_clouds.pcd\") # Read point cloud"
   ]
  },
  {
   "cell_type": "code",
   "execution_count": 10,
   "metadata": {},
   "outputs": [],
   "source": [
    "visualization.draw_geometries([all_registered_point_clouds])    # Visualize point cloud "
   ]
  },
  {
   "cell_type": "markdown",
   "metadata": {
    "id": "HMgc3oPyyPWJ"
   },
   "source": [
    "# 03 Motion Detection"
   ]
  },
  {
   "cell_type": "markdown",
   "metadata": {
    "id": "8lq6OQNn9sgZ"
   },
   "source": [
    "## Function Definition"
   ]
  },
  {
   "cell_type": "code",
   "execution_count": 11,
   "metadata": {
    "executionInfo": {
     "elapsed": 253,
     "status": "ok",
     "timestamp": 1736273165680,
     "user": {
      "displayName": "xiaomeng huang",
      "userId": "10238224868504546928"
     },
     "user_tz": -60
    },
    "id": "CDd-2FJigMcQ"
   },
   "outputs": [],
   "source": [
    "# Find neighbor for a point\n",
    "# Return: motion vector with shape (3, 1)\n",
    "def find_neighbor(point: np.ndarray, target_point_cloud: o3d.geometry.Geometry.Type.PointCloud):\n",
    "    target_points = np.asarray(target_point_cloud.points)\n",
    "\n",
    "    tree = o3d.geometry.KDTreeFlann(target_point_cloud)\n",
    "\n",
    "    _, idx, _ = tree.search_knn_vector_3d(point, 1)\n",
    "    if len(idx) > 0:\n",
    "        # a neighbor has been found\n",
    "        closest_point = target_points[idx[0]]\n",
    "        motion_vector = (closest_point - point).reshape((1, 3))\n",
    "    else:\n",
    "        # No movement if no neighbor found\n",
    "        motion_vector = np.zeros((1, 3))\n",
    "    return motion_vector"
   ]
  },
  {
   "cell_type": "code",
   "execution_count": 12,
   "metadata": {
    "executionInfo": {
     "elapsed": 267,
     "status": "ok",
     "timestamp": 1736273175975,
     "user": {
      "displayName": "xiaomeng huang",
      "userId": "10238224868504546928"
     },
     "user_tz": -60
    },
    "id": "OC0oug31hHvs"
   },
   "outputs": [],
   "source": [
    "# Calculation motion vectors\n",
    "# Return: dataFrames\n",
    "def calculate_motion_vectors(registered_point_clouds, sliding_window_size = 5):\n",
    "    print(f\"{len(registered_point_clouds) - sliding_window_size} frames to be processed. The first {sliding_window_size} frames couldn't be processed.\")\n",
    "\n",
    "    dfs = []\n",
    "    for count_source_point_cloud in range(sliding_window_size, len(registered_point_clouds)):\n",
    "        start_time = time.time()\n",
    "        source_point_cloud = np.asarray(registered_point_clouds[count_source_point_cloud].points)\n",
    "\n",
    "        # create dictionary\n",
    "        dic = {\n",
    "            \"source_point\": [],\n",
    "        }\n",
    "        for count_sliding_window in range(sliding_window_size):\n",
    "            dic[f\"motion_vector_{count_sliding_window + 1}\"] = []\n",
    "\n",
    "        for point in source_point_cloud:\n",
    "            dic[\"source_point\"].append(point.reshape((1, 3)))\n",
    "            for count_target_point_cloud in range(sliding_window_size):\n",
    "                # for each point in source point cloud: find neighbor\n",
    "                target_point_cloud = registered_point_clouds[count_source_point_cloud - count_target_point_cloud - 1]\n",
    "                dic[f\"motion_vector_{str(int(sliding_window_size - count_target_point_cloud))}\"].append(find_neighbor(point, target_point_cloud))\n",
    "\n",
    "        # convert to df\n",
    "        df = pd.DataFrame(dic)\n",
    "        dfs.append(df)\n",
    "\n",
    "        print(f\"Frame {count_source_point_cloud} finished, {time.time() - start_time} seconds used, {len(registered_point_clouds) - count_source_point_cloud - 1} frames left ......\")\n",
    "\n",
    "    return dfs"
   ]
  },
  {
   "cell_type": "code",
   "execution_count": 13,
   "metadata": {
    "executionInfo": {
     "elapsed": 269,
     "status": "ok",
     "timestamp": 1736273179090,
     "user": {
      "displayName": "xiaomeng huang",
      "userId": "10238224868504546928"
     },
     "user_tz": -60
    },
    "id": "-TXZrrK51qFE"
   },
   "outputs": [],
   "source": [
    "def calculate_magnitude(vector):\n",
    "    return np.linalg.norm(vector)"
   ]
  },
  {
   "cell_type": "code",
   "execution_count": 14,
   "metadata": {
    "executionInfo": {
     "elapsed": 372,
     "status": "ok",
     "timestamp": 1736273180745,
     "user": {
      "displayName": "xiaomeng huang",
      "userId": "10238224868504546928"
     },
     "user_tz": -60
    },
    "id": "5TpkX9eWTbtT"
   },
   "outputs": [],
   "source": [
    "def assign_label(magnitude, threshold = 0.05):\n",
    "    if magnitude >= threshold:\n",
    "        return True  # motion labeled\n",
    "    else:\n",
    "        return False  # no motion labeled"
   ]
  },
  {
   "cell_type": "code",
   "execution_count": 15,
   "metadata": {
    "executionInfo": {
     "elapsed": 233,
     "status": "ok",
     "timestamp": 1736273194191,
     "user": {
      "displayName": "xiaomeng huang",
      "userId": "10238224868504546928"
     },
     "user_tz": -60
    },
    "id": "2ikCMLeGdWDP"
   },
   "outputs": [],
   "source": [
    "def load_dfs(path):\n",
    "    dfs = []\n",
    "    for filename in sorted(os.listdir(path)):\n",
    "        if filename.endswith(\".pkl\"):\n",
    "            full_path = os.path.join(path, filename)\n",
    "            df = pd.read_pickle(full_path)\n",
    "            dfs.append(df.sort_values(by=[\"avg_motion_vector_mag\"], ascending= False))\n",
    "    return dfs"
   ]
  },
  {
   "cell_type": "markdown",
   "metadata": {
    "id": "Q1Q0egXNcZ_8"
   },
   "source": [
    "## Parameters definition"
   ]
  },
  {
   "cell_type": "code",
   "execution_count": 16,
   "metadata": {
    "executionInfo": {
     "elapsed": 1,
     "status": "ok",
     "timestamp": 1736273218464,
     "user": {
      "displayName": "xiaomeng huang",
      "userId": "10238224868504546928"
     },
     "user_tz": -60
    },
    "id": "ltC7eHXOccgV"
   },
   "outputs": [],
   "source": [
    "motion_threshold = 0.05"
   ]
  },
  {
   "cell_type": "markdown",
   "metadata": {
    "id": "rT3f0D2i8tRn"
   },
   "source": [
    "## Sliding window size = 1"
   ]
  },
  {
   "cell_type": "code",
   "execution_count": 17,
   "metadata": {
    "executionInfo": {
     "elapsed": 260,
     "status": "ok",
     "timestamp": 1736275249546,
     "user": {
      "displayName": "xiaomeng huang",
      "userId": "10238224868504546928"
     },
     "user_tz": -60
    },
    "id": "9fdZfCz18q7a"
   },
   "outputs": [],
   "source": [
    "sliding_window_size = 1"
   ]
  },
  {
   "cell_type": "markdown",
   "metadata": {
    "id": "-9z0DsXvy9Lg"
   },
   "source": [
    "### Calculate motion vectors, average motion vectors, average motion vectors magnitude, labels"
   ]
  },
  {
   "cell_type": "markdown",
   "metadata": {
    "id": "AbgKBm2HczLJ"
   },
   "source": [
    "#### motion vectors"
   ]
  },
  {
   "cell_type": "code",
   "execution_count": 40,
   "metadata": {
    "colab": {
     "base_uri": "https://localhost:8080/"
    },
    "executionInfo": {
     "elapsed": 809916,
     "status": "ok",
     "timestamp": 1736274092192,
     "user": {
      "displayName": "xiaomeng huang",
      "userId": "10238224868504546928"
     },
     "user_tz": -60
    },
    "id": "VKMV5LnKxDTx",
    "outputId": "7dbae8f8-b0f0-462c-feeb-0e7d717d4b4d"
   },
   "outputs": [
    {
     "name": "stdout",
     "output_type": "stream",
     "text": [
      "59 frames to be processed. The first 1 frames couldn't be processed.\n",
      "Frame 1 finished, 13.921431303024292 seconds used, 58 frames left ......\n",
      "Frame 2 finished, 13.701355457305908 seconds used, 57 frames left ......\n",
      "Frame 3 finished, 13.540055990219116 seconds used, 56 frames left ......\n",
      "Frame 4 finished, 13.321339130401611 seconds used, 55 frames left ......\n",
      "Frame 5 finished, 15.295138597488403 seconds used, 54 frames left ......\n",
      "Frame 6 finished, 13.548601150512695 seconds used, 53 frames left ......\n",
      "Frame 7 finished, 14.196861743927002 seconds used, 52 frames left ......\n",
      "Frame 8 finished, 13.507101058959961 seconds used, 51 frames left ......\n",
      "Frame 9 finished, 14.219792604446411 seconds used, 50 frames left ......\n",
      "Frame 10 finished, 13.503329038619995 seconds used, 49 frames left ......\n",
      "Frame 11 finished, 13.343739748001099 seconds used, 48 frames left ......\n",
      "Frame 12 finished, 14.573378086090088 seconds used, 47 frames left ......\n",
      "Frame 13 finished, 13.395508289337158 seconds used, 46 frames left ......\n",
      "Frame 14 finished, 14.593722343444824 seconds used, 45 frames left ......\n",
      "Frame 15 finished, 13.759413719177246 seconds used, 44 frames left ......\n",
      "Frame 16 finished, 13.579117059707642 seconds used, 43 frames left ......\n",
      "Frame 17 finished, 13.882301568984985 seconds used, 42 frames left ......\n",
      "Frame 18 finished, 13.734184503555298 seconds used, 41 frames left ......\n",
      "Frame 19 finished, 13.418256282806396 seconds used, 40 frames left ......\n",
      "Frame 20 finished, 13.314733266830444 seconds used, 39 frames left ......\n",
      "Frame 21 finished, 13.370155334472656 seconds used, 38 frames left ......\n",
      "Frame 22 finished, 13.72157096862793 seconds used, 37 frames left ......\n",
      "Frame 23 finished, 13.109848737716675 seconds used, 36 frames left ......\n",
      "Frame 24 finished, 13.485414266586304 seconds used, 35 frames left ......\n",
      "Frame 25 finished, 13.862789630889893 seconds used, 34 frames left ......\n",
      "Frame 26 finished, 13.711059808731079 seconds used, 33 frames left ......\n",
      "Frame 27 finished, 13.57632565498352 seconds used, 32 frames left ......\n",
      "Frame 28 finished, 13.71540117263794 seconds used, 31 frames left ......\n",
      "Frame 29 finished, 13.435533046722412 seconds used, 30 frames left ......\n",
      "Frame 30 finished, 13.45863389968872 seconds used, 29 frames left ......\n",
      "Frame 31 finished, 13.69863486289978 seconds used, 28 frames left ......\n",
      "Frame 32 finished, 13.32041597366333 seconds used, 27 frames left ......\n",
      "Frame 33 finished, 13.015208005905151 seconds used, 26 frames left ......\n",
      "Frame 34 finished, 13.53646993637085 seconds used, 25 frames left ......\n",
      "Frame 35 finished, 13.350319623947144 seconds used, 24 frames left ......\n",
      "Frame 36 finished, 13.51279354095459 seconds used, 23 frames left ......\n",
      "Frame 37 finished, 13.83370566368103 seconds used, 22 frames left ......\n",
      "Frame 38 finished, 14.601630449295044 seconds used, 21 frames left ......\n",
      "Frame 39 finished, 13.46627426147461 seconds used, 20 frames left ......\n",
      "Frame 40 finished, 14.863497018814087 seconds used, 19 frames left ......\n",
      "Frame 41 finished, 13.655483961105347 seconds used, 18 frames left ......\n",
      "Frame 42 finished, 13.631592988967896 seconds used, 17 frames left ......\n",
      "Frame 43 finished, 14.03671383857727 seconds used, 16 frames left ......\n",
      "Frame 44 finished, 13.804394960403442 seconds used, 15 frames left ......\n",
      "Frame 45 finished, 13.516793727874756 seconds used, 14 frames left ......\n",
      "Frame 46 finished, 13.874263763427734 seconds used, 13 frames left ......\n",
      "Frame 47 finished, 13.687732458114624 seconds used, 12 frames left ......\n",
      "Frame 48 finished, 13.202098608016968 seconds used, 11 frames left ......\n",
      "Frame 49 finished, 13.797237873077393 seconds used, 10 frames left ......\n",
      "Frame 50 finished, 13.318577527999878 seconds used, 9 frames left ......\n",
      "Frame 51 finished, 13.290252208709717 seconds used, 8 frames left ......\n",
      "Frame 52 finished, 13.956718921661377 seconds used, 7 frames left ......\n",
      "Frame 53 finished, 13.804855346679688 seconds used, 6 frames left ......\n",
      "Frame 54 finished, 13.69439959526062 seconds used, 5 frames left ......\n",
      "Frame 55 finished, 13.9873685836792 seconds used, 4 frames left ......\n",
      "Frame 56 finished, 13.749547719955444 seconds used, 3 frames left ......\n",
      "Frame 57 finished, 13.681684494018555 seconds used, 2 frames left ......\n",
      "Frame 58 finished, 13.957526445388794 seconds used, 1 frames left ......\n",
      "Frame 59 finished, 13.904788732528687 seconds used, 0 frames left ......\n"
     ]
    }
   ],
   "source": [
    "dfs = calculate_motion_vectors(registered_point_clouds, sliding_window_size)"
   ]
  },
  {
   "cell_type": "markdown",
   "metadata": {
    "id": "9c94y7uLs1_8"
   },
   "source": [
    "#### Average motion vectors"
   ]
  },
  {
   "cell_type": "code",
   "execution_count": 47,
   "metadata": {
    "executionInfo": {
     "elapsed": 900,
     "status": "ok",
     "timestamp": 1736275266504,
     "user": {
      "displayName": "xiaomeng huang",
      "userId": "10238224868504546928"
     },
     "user_tz": -60
    },
    "id": "fP-cAagqzsvB"
   },
   "outputs": [],
   "source": [
    "for df in dfs:\n",
    "    temp_avg_motion_vectors = df[\"motion_vector_1\"]\n",
    "    for count_sliding_window in range(1, sliding_window_size):\n",
    "        temp_avg_motion_vectors = temp_avg_motion_vectors + df[f\"motion_vector_{count_sliding_window + 1}\"]\n",
    "    df[\"avg_motion_vector\"] = temp_avg_motion_vectors / float(sliding_window_size)"
   ]
  },
  {
   "cell_type": "markdown",
   "metadata": {
    "id": "x74Ay5eWs8Je"
   },
   "source": [
    "#### Average motion vector magnitudes"
   ]
  },
  {
   "cell_type": "code",
   "execution_count": 48,
   "metadata": {
    "executionInfo": {
     "elapsed": 1648,
     "status": "ok",
     "timestamp": 1736275272750,
     "user": {
      "displayName": "xiaomeng huang",
      "userId": "10238224868504546928"
     },
     "user_tz": -60
    },
    "id": "T3_qRaML1nFj"
   },
   "outputs": [],
   "source": [
    "for df in dfs:\n",
    "    df[\"avg_motion_vector_mag\"] = df[\"avg_motion_vector\"].apply(calculate_magnitude)"
   ]
  },
  {
   "cell_type": "code",
   "execution_count": 49,
   "metadata": {
    "executionInfo": {
     "elapsed": 262,
     "status": "ok",
     "timestamp": 1736275274600,
     "user": {
      "displayName": "xiaomeng huang",
      "userId": "10238224868504546928"
     },
     "user_tz": -60
    },
    "id": "i_sahsZCrJm0"
   },
   "outputs": [],
   "source": [
    "# sorting by avg_motion_vector_mag\n",
    "for count_df in range(len(dfs)):\n",
    "    dfs[count_df] = dfs[count_df].sort_values(by=[\"avg_motion_vector_mag\"], ascending= False)"
   ]
  },
  {
   "cell_type": "markdown",
   "metadata": {
    "id": "J06rp2TVTroQ"
   },
   "source": [
    "#### Assign labels"
   ]
  },
  {
   "cell_type": "code",
   "execution_count": 50,
   "metadata": {
    "executionInfo": {
     "elapsed": 222,
     "status": "ok",
     "timestamp": 1736275277189,
     "user": {
      "displayName": "xiaomeng huang",
      "userId": "10238224868504546928"
     },
     "user_tz": -60
    },
    "id": "5llqp238To0g"
   },
   "outputs": [],
   "source": [
    "for df in dfs:\n",
    "    df[\"motion\"] = df[\"avg_motion_vector_mag\"].apply(assign_label, threshold= motion_threshold)"
   ]
  },
  {
   "cell_type": "markdown",
   "metadata": {
    "id": "LZGzBeyOcubp"
   },
   "source": [
    "### Save dfs in file"
   ]
  },
  {
   "cell_type": "code",
   "execution_count": 57,
   "metadata": {
    "executionInfo": {
     "elapsed": 269,
     "status": "ok",
     "timestamp": 1736275657213,
     "user": {
      "displayName": "xiaomeng huang",
      "userId": "10238224868504546928"
     },
     "user_tz": -60
    },
    "id": "QLJ2hLu5FLHx"
   },
   "outputs": [],
   "source": [
    "Path_dfs = \"./03_Motion_Detection_Optical-flow/sliding_windowsize_{:0>1}/\".format(sliding_window_size)\n",
    "Path(Path_dfs).mkdir(parents=True, exist_ok=True)"
   ]
  },
  {
   "cell_type": "code",
   "execution_count": 58,
   "metadata": {
    "executionInfo": {
     "elapsed": 12012,
     "status": "ok",
     "timestamp": 1736275738940,
     "user": {
      "displayName": "xiaomeng huang",
      "userId": "10238224868504546928"
     },
     "user_tz": -60
    },
    "id": "Ld1GymuaNmuK"
   },
   "outputs": [],
   "source": [
    "for count_df in range(len(dfs)):\n",
    "    df = dfs[count_df]\n",
    "    df.to_pickle(os.path.join(Path_dfs, \"df_{:0>3}.pkl\".format(count_df)))"
   ]
  },
  {
   "cell_type": "markdown",
   "metadata": {
    "id": "C9LpCZqPc3th"
   },
   "source": [
    "### Load motion vectors, average motion vectors, average motion vectors magnitude, labels from dfs in File"
   ]
  },
  {
   "cell_type": "code",
   "execution_count": null,
   "metadata": {
    "id": "_FurfRtJc6Uj"
   },
   "outputs": [],
   "source": [
    "Path_dfs = \"./03_Motion_Detection_Optical-flow/sliding_windowsize_{:0>1}/\".format(sliding_window_size)\n",
    "dfs = load_dfs(Path_dfs)"
   ]
  },
  {
   "cell_type": "markdown",
   "metadata": {
    "id": "X5m3FGtm9Ji-"
   },
   "source": [
    "## Sliding window size = 5"
   ]
  },
  {
   "cell_type": "code",
   "execution_count": 18,
   "metadata": {
    "executionInfo": {
     "elapsed": 264,
     "status": "ok",
     "timestamp": 1736278133905,
     "user": {
      "displayName": "xiaomeng huang",
      "userId": "10238224868504546928"
     },
     "user_tz": -60
    },
    "id": "_zvSdQKp9X9D"
   },
   "outputs": [],
   "source": [
    "sliding_window_size = 5"
   ]
  },
  {
   "cell_type": "markdown",
   "metadata": {
    "id": "d6aPbB4C9klw"
   },
   "source": [
    "### Calculate motion vectors, average motion vectors, average motion vectors magnitude, labels"
   ]
  },
  {
   "cell_type": "markdown",
   "metadata": {
    "id": "HW7LlyKg9klx"
   },
   "source": [
    "#### motion vectors"
   ]
  },
  {
   "cell_type": "code",
   "execution_count": 60,
   "metadata": {
    "colab": {
     "base_uri": "https://localhost:8080/"
    },
    "executionInfo": {
     "elapsed": 3761630,
     "status": "ok",
     "timestamp": 1736281898738,
     "user": {
      "displayName": "xiaomeng huang",
      "userId": "10238224868504546928"
     },
     "user_tz": -60
    },
    "id": "cv8P-FbV9klx",
    "outputId": "7cf2e5d8-8f73-4454-8cb3-68efb3be86db"
   },
   "outputs": [
    {
     "name": "stdout",
     "output_type": "stream",
     "text": [
      "55 frames to be processed. The first 5 frames couldn't be processed.\n",
      "Frame 5 finished, 68.18129014968872 seconds used, 54 frames left ......\n",
      "Frame 6 finished, 67.50930404663086 seconds used, 53 frames left ......\n",
      "Frame 7 finished, 68.07767033576965 seconds used, 52 frames left ......\n",
      "Frame 8 finished, 67.4980034828186 seconds used, 51 frames left ......\n",
      "Frame 9 finished, 68.74377465248108 seconds used, 50 frames left ......\n",
      "Frame 10 finished, 67.22436356544495 seconds used, 49 frames left ......\n",
      "Frame 11 finished, 67.31480956077576 seconds used, 48 frames left ......\n",
      "Frame 12 finished, 68.60805606842041 seconds used, 47 frames left ......\n",
      "Frame 13 finished, 67.01027584075928 seconds used, 46 frames left ......\n",
      "Frame 14 finished, 69.02768278121948 seconds used, 45 frames left ......\n",
      "Frame 15 finished, 68.82853198051453 seconds used, 44 frames left ......\n",
      "Frame 16 finished, 66.24284887313843 seconds used, 43 frames left ......\n",
      "Frame 17 finished, 68.54877710342407 seconds used, 42 frames left ......\n",
      "Frame 18 finished, 68.91435241699219 seconds used, 41 frames left ......\n",
      "Frame 19 finished, 66.7230577468872 seconds used, 40 frames left ......\n",
      "Frame 20 finished, 68.67311596870422 seconds used, 39 frames left ......\n",
      "Frame 21 finished, 67.61525893211365 seconds used, 38 frames left ......\n",
      "Frame 22 finished, 68.31398558616638 seconds used, 37 frames left ......\n",
      "Frame 23 finished, 67.97414755821228 seconds used, 36 frames left ......\n",
      "Frame 24 finished, 67.28410601615906 seconds used, 35 frames left ......\n",
      "Frame 25 finished, 68.96890377998352 seconds used, 34 frames left ......\n",
      "Frame 26 finished, 67.31876635551453 seconds used, 33 frames left ......\n",
      "Frame 27 finished, 68.18752479553223 seconds used, 32 frames left ......\n",
      "Frame 28 finished, 68.70440220832825 seconds used, 31 frames left ......\n",
      "Frame 29 finished, 66.76868629455566 seconds used, 30 frames left ......\n",
      "Frame 30 finished, 68.11287665367126 seconds used, 29 frames left ......\n",
      "Frame 31 finished, 68.25048303604126 seconds used, 28 frames left ......\n",
      "Frame 32 finished, 66.89215421676636 seconds used, 27 frames left ......\n",
      "Frame 33 finished, 70.3895366191864 seconds used, 26 frames left ......\n",
      "Frame 34 finished, 69.43985176086426 seconds used, 25 frames left ......\n",
      "Frame 35 finished, 66.60811066627502 seconds used, 24 frames left ......\n",
      "Frame 36 finished, 68.59319806098938 seconds used, 23 frames left ......\n",
      "Frame 37 finished, 68.89149045944214 seconds used, 22 frames left ......\n",
      "Frame 38 finished, 66.92374038696289 seconds used, 21 frames left ......\n",
      "Frame 39 finished, 68.74925351142883 seconds used, 20 frames left ......\n",
      "Frame 40 finished, 68.36756157875061 seconds used, 19 frames left ......\n",
      "Frame 41 finished, 67.73735904693604 seconds used, 18 frames left ......\n",
      "Frame 42 finished, 69.48944211006165 seconds used, 17 frames left ......\n",
      "Frame 43 finished, 68.8434841632843 seconds used, 16 frames left ......\n",
      "Frame 44 finished, 68.06945896148682 seconds used, 15 frames left ......\n",
      "Frame 45 finished, 69.72103023529053 seconds used, 14 frames left ......\n",
      "Frame 46 finished, 69.34317994117737 seconds used, 13 frames left ......\n",
      "Frame 47 finished, 67.52685117721558 seconds used, 12 frames left ......\n",
      "Frame 48 finished, 70.59138917922974 seconds used, 11 frames left ......\n",
      "Frame 49 finished, 69.41574811935425 seconds used, 10 frames left ......\n",
      "Frame 50 finished, 67.05598330497742 seconds used, 9 frames left ......\n",
      "Frame 51 finished, 69.57788252830505 seconds used, 8 frames left ......\n",
      "Frame 52 finished, 70.28852915763855 seconds used, 7 frames left ......\n",
      "Frame 53 finished, 68.65940284729004 seconds used, 6 frames left ......\n",
      "Frame 54 finished, 68.37449717521667 seconds used, 5 frames left ......\n",
      "Frame 55 finished, 69.66753339767456 seconds used, 4 frames left ......\n",
      "Frame 56 finished, 69.03810453414917 seconds used, 3 frames left ......\n",
      "Frame 57 finished, 68.76144099235535 seconds used, 2 frames left ......\n",
      "Frame 58 finished, 70.20499110221863 seconds used, 1 frames left ......\n",
      "Frame 59 finished, 69.32441020011902 seconds used, 0 frames left ......\n"
     ]
    }
   ],
   "source": [
    "dfs = calculate_motion_vectors(registered_point_clouds, sliding_window_size)"
   ]
  },
  {
   "cell_type": "markdown",
   "metadata": {
    "id": "Ds7QL3uC9klx"
   },
   "source": [
    "#### Average motion vectors"
   ]
  },
  {
   "cell_type": "code",
   "execution_count": 61,
   "metadata": {
    "executionInfo": {
     "elapsed": 3819,
     "status": "ok",
     "timestamp": 1736282296756,
     "user": {
      "displayName": "xiaomeng huang",
      "userId": "10238224868504546928"
     },
     "user_tz": -60
    },
    "id": "JdyUpYbI9klx"
   },
   "outputs": [],
   "source": [
    "for df in dfs:\n",
    "    temp_avg_motion_vectors = df[\"motion_vector_1\"]\n",
    "    for count_sliding_window in range(1, sliding_window_size):\n",
    "        temp_avg_motion_vectors = temp_avg_motion_vectors + df[f\"motion_vector_{count_sliding_window + 1}\"]\n",
    "    df[\"avg_motion_vector\"] = temp_avg_motion_vectors / float(sliding_window_size)"
   ]
  },
  {
   "cell_type": "markdown",
   "metadata": {
    "id": "OGYeQKTi9klx"
   },
   "source": [
    "#### Average motion vector magnitudes"
   ]
  },
  {
   "cell_type": "code",
   "execution_count": 62,
   "metadata": {
    "executionInfo": {
     "elapsed": 1612,
     "status": "ok",
     "timestamp": 1736282298732,
     "user": {
      "displayName": "xiaomeng huang",
      "userId": "10238224868504546928"
     },
     "user_tz": -60
    },
    "id": "eZkR-Q-W9klx"
   },
   "outputs": [],
   "source": [
    "for df in dfs:\n",
    "    df[\"avg_motion_vector_mag\"] = df[\"avg_motion_vector\"].apply(calculate_magnitude)"
   ]
  },
  {
   "cell_type": "code",
   "execution_count": 63,
   "metadata": {
    "executionInfo": {
     "elapsed": 542,
     "status": "ok",
     "timestamp": 1736282300463,
     "user": {
      "displayName": "xiaomeng huang",
      "userId": "10238224868504546928"
     },
     "user_tz": -60
    },
    "id": "Zrhc1N0S9kly"
   },
   "outputs": [],
   "source": [
    "# sorting by avg_motion_vector_mag\n",
    "for count_df in range(len(dfs)):\n",
    "    dfs[count_df] = dfs[count_df].sort_values(by=[\"avg_motion_vector_mag\"], ascending= False)"
   ]
  },
  {
   "cell_type": "markdown",
   "metadata": {
    "id": "BDtJXf9G9kly"
   },
   "source": [
    "#### Assign labels"
   ]
  },
  {
   "cell_type": "code",
   "execution_count": 64,
   "metadata": {
    "executionInfo": {
     "elapsed": 515,
     "status": "ok",
     "timestamp": 1736282302414,
     "user": {
      "displayName": "xiaomeng huang",
      "userId": "10238224868504546928"
     },
     "user_tz": -60
    },
    "id": "BipDwVAj9kly"
   },
   "outputs": [],
   "source": [
    "for df in dfs:\n",
    "    df[\"motion\"] = df[\"avg_motion_vector_mag\"].apply(assign_label, threshold= motion_threshold)"
   ]
  },
  {
   "cell_type": "markdown",
   "metadata": {
    "id": "-7KabjVDGbw1"
   },
   "source": [
    "### Save dfs in file"
   ]
  },
  {
   "cell_type": "code",
   "execution_count": 65,
   "metadata": {
    "executionInfo": {
     "elapsed": 258,
     "status": "ok",
     "timestamp": 1736282304222,
     "user": {
      "displayName": "xiaomeng huang",
      "userId": "10238224868504546928"
     },
     "user_tz": -60
    },
    "id": "texMJv-AGbw2"
   },
   "outputs": [],
   "source": [
    "Path_dfs = \"./03_Motion_Detection_Optical-flow/sliding_windowsize_{:0>1}/\".format(sliding_window_size)\n",
    "Path(Path_dfs).mkdir(parents=True, exist_ok=True)"
   ]
  },
  {
   "cell_type": "code",
   "execution_count": 66,
   "metadata": {
    "executionInfo": {
     "elapsed": 41328,
     "status": "ok",
     "timestamp": 1736282347719,
     "user": {
      "displayName": "xiaomeng huang",
      "userId": "10238224868504546928"
     },
     "user_tz": -60
    },
    "id": "ic4rAFn6Gbw2"
   },
   "outputs": [],
   "source": [
    "for count_df in range(len(dfs)):\n",
    "    df = dfs[count_df]\n",
    "    df.to_pickle(os.path.join(Path_dfs, \"df_{:0>3}.pkl\".format(count_df)))"
   ]
  },
  {
   "cell_type": "markdown",
   "metadata": {
    "id": "2J9DpgYW9yqW"
   },
   "source": [
    "### Load motion vectors, average motion vectors, average motion vectors magnitude, labels from dfs in File"
   ]
  },
  {
   "cell_type": "code",
   "execution_count": 19,
   "metadata": {
    "id": "T876H9rc9yqW"
   },
   "outputs": [],
   "source": [
    "Path_dfs = \"./03_Motion_Detection_Optical-flow/sliding_windowsize_{:0>1}/\".format(sliding_window_size)\n",
    "dfs = load_dfs(Path_dfs)"
   ]
  },
  {
   "cell_type": "markdown",
   "metadata": {},
   "source": [
    "## Visualization "
   ]
  },
  {
   "cell_type": "markdown",
   "metadata": {},
   "source": [
    "#### Sliding window size = 1"
   ]
  },
  {
   "cell_type": "code",
   "execution_count": null,
   "metadata": {},
   "outputs": [],
   "source": [
    "def assign_color(label):\n",
    "    if label == True:\n",
    "        return [1.0, 0.0, 0.0]  # red\n",
    "    else:\n",
    "        return [0.5, 0.5, 0.5]  # gray"
   ]
  },
  {
   "cell_type": "code",
   "execution_count": null,
   "metadata": {},
   "outputs": [],
   "source": [
    "Path_dfs = \"./03_Motion_Detection_Optical-flow/sliding_windowsize_1\"\n",
    "num_example_frame = 30\n",
    "df_example_frame = pd.read_pickle(os.path.join(Path_dfs, \"df_{:0>3}.pkl\".format(num_example_frame)))"
   ]
  },
  {
   "cell_type": "code",
   "execution_count": null,
   "metadata": {},
   "outputs": [],
   "source": [
    "df_example_frame[\"color\"] = df_example_frame[\"motion\"].apply(assign_color)"
   ]
  },
  {
   "cell_type": "code",
   "execution_count": null,
   "metadata": {},
   "outputs": [],
   "source": [
    "points = np.vstack(df_example_frame[\"source_point\"].values) \n",
    "colors = np.vstack(df_example_frame[\"color\"].values) \n",
    "point_cloud = o3d.geometry.PointCloud()\n",
    "point_cloud.points = o3d.utility.Vector3dVector(points)\n",
    "point_cloud.colors = o3d.utility.Vector3dVector(colors)\n",
    "o3d.visualization.draw_geometries([point_cloud])"
   ]
  },
  {
   "cell_type": "markdown",
   "metadata": {},
   "source": [
    "#### Sliding window size = 5"
   ]
  },
  {
   "cell_type": "code",
   "execution_count": 20,
   "metadata": {},
   "outputs": [],
   "source": [
    "def assign_color(label):\n",
    "    if label == True:\n",
    "        return [1.0, 0.0, 0.0]  # red\n",
    "    else:\n",
    "        return [0.5, 0.5, 0.5]  # gray"
   ]
  },
  {
   "cell_type": "code",
   "execution_count": 21,
   "metadata": {},
   "outputs": [],
   "source": [
    "Path_dfs = \"./03_Motion_Detection_Optical-flow/sliding_windowsize_5\"\n",
    "num_example_frame = 30\n",
    "df_example_frame = pd.read_pickle(os.path.join(Path_dfs, \"df_{:0>3}.pkl\".format(num_example_frame)))"
   ]
  },
  {
   "cell_type": "code",
   "execution_count": 22,
   "metadata": {},
   "outputs": [],
   "source": [
    "df_example_frame[\"color\"] = df_example_frame[\"motion\"].apply(assign_color)"
   ]
  },
  {
   "cell_type": "code",
   "execution_count": 23,
   "metadata": {},
   "outputs": [],
   "source": [
    "points = np.vstack(df_example_frame[\"source_point\"].values) \n",
    "colors = np.vstack(df_example_frame[\"color\"].values) \n",
    "point_cloud = o3d.geometry.PointCloud()\n",
    "point_cloud.points = o3d.utility.Vector3dVector(points)\n",
    "point_cloud.colors = o3d.utility.Vector3dVector(colors)\n",
    "o3d.visualization.draw_geometries([point_cloud])"
   ]
  },
  {
   "cell_type": "markdown",
   "metadata": {
    "id": "gBY1bqGQZOLP"
   },
   "source": [
    "# 04 DBSCAN"
   ]
  },
  {
   "cell_type": "markdown",
   "metadata": {},
   "source": [
    "## Function Definition "
   ]
  },
  {
   "cell_type": "code",
   "execution_count": 24,
   "metadata": {},
   "outputs": [],
   "source": [
    "color_map = {\n",
    "    0: [1, 0, 0],     # Cluster 0 - Red\n",
    "    1: [0, 1, 0],     # Cluster 1 - Green\n",
    "    2: [0, 0, 1],     # Cluster 2 - Blue\n",
    "    3: [1, 1, 0],     # Cluster 3 - Yellow\n",
    "    4: [1, 0, 1],     # Cluster 4 - Magenta\n",
    "    5: [0, 1, 1],     # Cluster 5 - Cyan\n",
    "}"
   ]
  },
  {
   "cell_type": "code",
   "execution_count": 25,
   "metadata": {},
   "outputs": [],
   "source": [
    "def dbscan_clustering(df: pd.DataFrame, threshold_motion= 0.05, eps= 1.0, min_samples= 10):\n",
    "    # Points with motion\n",
    "    mask_motion = df.loc[:, \"avg_motion_vector_mag\"] >= threshold_motion\n",
    "    \n",
    "    points_motion = np.vstack(df[mask_motion].loc[:, \"source_point\"].values)\n",
    "    avg_motion_vector = np.vstack(df[mask_motion].loc[:, \"avg_motion_vector\"].values)\n",
    "    features = points_motion\n",
    "    # features = np.hstack((points_motion, avg_motion_vector))\n",
    "    \n",
    "    # DBSCAN only for points, that were with motion-detected marked\n",
    "    clustering = DBSCAN(eps= eps, min_samples= min_samples).fit(features)\n",
    "    labels = clustering.labels_\n",
    "    \n",
    "    num_clusters = len(set(labels)) - (1 if -1 in labels else 0)    # noise points ignored\n",
    "    num_noise = np.sum(labels == -1)\n",
    "    print(f\"{num_clusters} clusters found\")\n",
    "    # print(f\"Points of noise: {num_noise}\")\n",
    "    \n",
    "    # Find the cluster with the highest degree of aggregation (the cluster with the most points)\n",
    "    unique_labels = set(labels)\n",
    "    label_counts = {}\n",
    "    \n",
    "    for label in unique_labels:\n",
    "        label_counts[label] = np.sum(labels == label)\n",
    "    \n",
    "    # for label, count in label_counts.items():\n",
    "    #     print(f\"Cluster {label} contains: {count} points\")\n",
    "\n",
    "    max_cluster_label = max(label_counts, key= label_counts.get)\n",
    "    \n",
    "    \n",
    "    # Points without motion\n",
    "    mask_no_motion = df.loc[:, \"avg_motion_vector_mag\"] < threshold_motion\n",
    "    points_no_motion = np.vstack(df[mask_no_motion].loc[:, \"source_point\"].values)\n",
    "    \n",
    "    \n",
    "    # Assign colors for different clusters\n",
    "    unique_labels = set(labels)\n",
    "    colors_points_motion = []\n",
    "    \n",
    "    for label in labels:\n",
    "        if label == -1:\n",
    "            colors_points_motion.append([0.5, 0.5, 0.5])  # gray for noise points\n",
    "        else:\n",
    "            colors_points_motion.append(color_map.get(label, [0.5, 0.5, 0.5]))\n",
    "    \n",
    "    ## for points_no_motion\n",
    "    colors_points_no_motion = []\n",
    "    for i in range(points_no_motion.shape[0]):\n",
    "        colors_points_no_motion.append([0.5, 0.5, 0.5])  # gray\n",
    "    \n",
    "    \n",
    "    # Visualization\n",
    "    cloud_points_motion = o3d.geometry.PointCloud()\n",
    "    cloud_points_motion.points = o3d.utility.Vector3dVector(points_motion)\n",
    "    cloud_points_motion.colors = o3d.utility.Vector3dVector(colors_points_motion)\n",
    "    \n",
    "    cloud_points_no_motion = o3d.geometry.PointCloud()\n",
    "    cloud_points_no_motion.points = o3d.utility.Vector3dVector(points_no_motion)\n",
    "    cloud_points_no_motion.colors = o3d.utility.Vector3dVector(colors_points_no_motion)\n",
    "    \n",
    "    return cloud_points_motion + cloud_points_no_motion"
   ]
  },
  {
   "cell_type": "markdown",
   "metadata": {},
   "source": [
    "## Parameters "
   ]
  },
  {
   "cell_type": "code",
   "execution_count": 26,
   "metadata": {},
   "outputs": [],
   "source": [
    "Path_dfs = \"./03_Motion_Detection_Optical-flow/sliding_windowsize_5\"\n",
    "Path_pcds_clustered = \"./04_Clustering_Object-Extraction_DBSCAN\""
   ]
  },
  {
   "cell_type": "markdown",
   "metadata": {},
   "source": [
    "## Apply DBSCAN "
   ]
  },
  {
   "cell_type": "code",
   "execution_count": null,
   "metadata": {},
   "outputs": [
    {
     "name": "stdout",
     "output_type": "stream",
     "text": [
      "1 clusters found\n",
      "1 clusters found\n",
      "1 clusters found\n",
      "1 clusters found\n",
      "1 clusters found\n",
      "1 clusters found\n",
      "1 clusters found\n",
      "1 clusters found\n",
      "1 clusters found\n",
      "1 clusters found\n",
      "1 clusters found\n",
      "1 clusters found\n",
      "1 clusters found\n",
      "1 clusters found\n",
      "1 clusters found\n",
      "1 clusters found\n",
      "1 clusters found\n",
      "1 clusters found\n",
      "1 clusters found\n",
      "1 clusters found\n",
      "1 clusters found\n",
      "1 clusters found\n",
      "1 clusters found\n",
      "1 clusters found\n",
      "1 clusters found\n",
      "1 clusters found\n",
      "1 clusters found\n",
      "1 clusters found\n",
      "1 clusters found\n",
      "1 clusters found\n",
      "1 clusters found\n",
      "1 clusters found\n",
      "1 clusters found\n",
      "1 clusters found\n",
      "1 clusters found\n",
      "1 clusters found\n",
      "1 clusters found\n",
      "1 clusters found\n",
      "1 clusters found\n",
      "1 clusters found\n",
      "1 clusters found\n",
      "1 clusters found\n",
      "1 clusters found\n",
      "1 clusters found\n",
      "1 clusters found\n",
      "1 clusters found\n",
      "1 clusters found\n",
      "1 clusters found\n",
      "1 clusters found\n",
      "1 clusters found\n",
      "1 clusters found\n",
      "1 clusters found\n",
      "1 clusters found\n",
      "1 clusters found\n"
     ]
    }
   ],
   "source": [
    "for count_df in range(0, 54):\n",
    "    df = pd.read_pickle(os.path.join(Path_dfs, \"df_{:0>3}.pkl\".format(count_df)))\n",
    "    point_cloud = dbscan_clustering(df, eps= 0.4, min_samples= 25, threshold_motion= 0.05)\n",
    "    o3d.io.write_point_cloud(os.path.join(Path_pcds_clustered, \"point_cloud_{:0>3}.pcd\".format(count_df)), point_cloud)"
   ]
  },
  {
   "cell_type": "markdown",
   "metadata": {},
   "source": [
    "## Visualization "
   ]
  },
  {
   "cell_type": "code",
   "execution_count": 27,
   "metadata": {},
   "outputs": [],
   "source": [
    "num_example_point_cloud = 30\n",
    "example_point_cloud = io.read_point_cloud(os.path.join(Path_pcds_clustered, \"point_cloud_{:0>3}.pcd\".format(num_example_point_cloud))) # Read point cloud\n",
    "o3d.visualization.draw_geometries([example_point_cloud])"
   ]
  },
  {
   "cell_type": "markdown",
   "metadata": {},
   "source": [
    "# 05 Visualization "
   ]
  },
  {
   "cell_type": "code",
   "execution_count": 28,
   "metadata": {},
   "outputs": [],
   "source": [
    "Path_pcds_clustered = \"./04_Clustering_Object-Extraction_DBSCAN\"\n",
    "view_config = \"saved_view.json\""
   ]
  },
  {
   "cell_type": "code",
   "execution_count": 29,
   "metadata": {},
   "outputs": [
    {
     "name": "stdout",
     "output_type": "stream",
     "text": [
      "View parameters loaded and applied.\n"
     ]
    }
   ],
   "source": [
    "vis= o3d.visualization.Visualizer()\n",
    "vis.create_window(width= 1440, height= 900)\n",
    "\n",
    "point_cloud = io.read_point_cloud(os.path.join(Path_pcds_clustered, \"point_cloud_{:0>3}.pcd\".format(0))) # Read first point cloud\n",
    "vis.add_geometry(point_cloud)\n",
    "vis.update_renderer()\n",
    "\n",
    "try:\n",
    "    with open(view_config, 'r') as f:\n",
    "        view_params = json.load(f)\n",
    "    \n",
    "    # PinholeCameraParameters \n",
    "    ctr = vis.get_view_control()\n",
    "    camera_params = ctr.convert_to_pinhole_camera_parameters()\n",
    "    \n",
    "    # extrinsic \n",
    "    extrinsic = np.array(view_params['extrinsic']).reshape((4, 4))\n",
    "    camera_params.extrinsic = extrinsic\n",
    "    \n",
    "    # intrinsic \n",
    "    intrinsic = o3d.camera.PinholeCameraIntrinsic()\n",
    "    intrinsic.intrinsic_matrix = np.array(view_params[\"intrinsic\"]['intrinsic_matrix']).reshape((3, 3))\n",
    "    intrinsic.width = view_params[\"intrinsic\"]['width']\n",
    "    intrinsic.height = view_params[\"intrinsic\"]['height']\n",
    "    camera_params.intrinsic = intrinsic\n",
    "    \n",
    "    # Apply paramters\n",
    "    ctr.convert_from_pinhole_camera_parameters(camera_params, allow_arbitrary= True)\n",
    "    ctr.set_zoom(0.5)\n",
    "    ctr.set_lookat([-1, 0, 0])\n",
    "    \n",
    "    print(\"View parameters loaded and applied.\")\n",
    "except Exception as e:\n",
    "    print(f\"Failed to load view parameters: {e}\")\n",
    "\n",
    "\n",
    "for num_point_cloud in range(1, 54):\n",
    "    temo_point_cloud = io.read_point_cloud(os.path.join(Path_pcds_clustered, \"point_cloud_{:0>3}.pcd\".format(num_point_cloud))) # Read point cloud\n",
    "    point_cloud.points = temo_point_cloud.points\n",
    "    point_cloud.colors = temo_point_cloud.colors\n",
    "    vis.update_geometry(point_cloud)\n",
    "    \n",
    "    vis.poll_events()\n",
    "    vis.update_renderer()\n",
    "    time.sleep(0.1)  # Delay\n",
    "\n",
    "vis.destroy_window()"
   ]
  }
 ],
 "metadata": {
  "colab": {
   "provenance": [],
   "toc_visible": true
  },
  "kaggle": {
   "accelerator": "gpu",
   "dataSources": [
    {
     "datasetId": 6378092,
     "sourceId": 10303921,
     "sourceType": "datasetVersion"
    }
   ],
   "dockerImageVersionId": 30823,
   "isGpuEnabled": true,
   "isInternetEnabled": true,
   "language": "python",
   "sourceType": "notebook"
  },
  "kernelspec": {
   "display_name": "venv_3dbv",
   "language": "python",
   "name": "python3"
  },
  "language_info": {
   "codemirror_mode": {
    "name": "ipython",
    "version": 3
   },
   "file_extension": ".py",
   "mimetype": "text/x-python",
   "name": "python",
   "nbconvert_exporter": "python",
   "pygments_lexer": "ipython3",
   "version": "3.10.16"
  }
 },
 "nbformat": 4,
 "nbformat_minor": 0
}
